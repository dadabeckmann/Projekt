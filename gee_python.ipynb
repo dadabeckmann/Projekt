{
  "nbformat": 4,
  "nbformat_minor": 0,
  "metadata": {
    "colab": {
      "provenance": [],
      "authorship_tag": "ABX9TyNFvxG+QWBvifCWOAg/nmTc"
    },
    "kernelspec": {
      "name": "python3",
      "display_name": "Python 3"
    },
    "language_info": {
      "name": "python"
    }
  },
  "cells": [
    {
      "cell_type": "code",
      "source": [
        "import ee\n",
        "# Trigger the authentication flow.\n",
        "ee.Authenticate()\n",
        "\n",
        "# Initialize the library.\n",
        "ee.Initialize(project='ee-dbeckmann')"
      ],
      "metadata": {
        "id": "tILxgzbr-Sl7"
      },
      "execution_count": null,
      "outputs": []
    },
    {
      "cell_type": "code",
      "source": [
        "# Packages\n",
        "import ee\n",
        "import matplotlib.pyplot as plt # for plots\n",
        "import branca.colormap as cm # for colormaps\n",
        "import folium\n",
        "import geemap\n",
        "import numpy as np\n",
        "import pandas as pd\n",
        "import seaborn as sns\n",
        "from datetime import datetime\n"
      ],
      "metadata": {
        "id": "uXYlJ_RTGQ3s"
      },
      "execution_count": null,
      "outputs": []
    },
    {
      "cell_type": "code",
      "source": [
        "# Load in Shapefile\n",
        "regionInt = ee.FeatureCollection('users/dbeckmann/Tuebingen_Shape')\n",
        "\n",
        "# Define constants\n",
        "START_DATE = '2018-01-01'\n",
        "END_DATE = '2018-12-31'\n",
        "MAX_CLOUD_COVER = 50\n",
        "\n",
        "# Function to filter out cloudy pixels\n",
        "def cloud_mask(img):\n",
        "    cloud_shadow_bit_mask = (1 << 3)  # Bits 3 and 5 are cloud shadow and cloud, respectively.\n",
        "    clouds_bit_mask = (1 << 5)\n",
        "    qa = img.select('QA_PIXEL')  # Get the pixel QA band.\n",
        "    mask = qa.bitwiseAnd(cloud_shadow_bit_mask).eq(0) \\\n",
        "                 .And(qa.bitwiseAnd(clouds_bit_mask).eq(0))  # Both flags should be set to zero, indicating clear conditions.\n",
        "    return img.updateMask(mask)\n",
        "\n",
        "# Load the collection, apply cloud mask, and filter to date and region of interest.\n",
        "col_before = ee.ImageCollection('LANDSAT/LC08/C02/T1_TOA') \\\n",
        "    .filterDate(START_DATE, END_DATE)\n",
        "\n",
        "col_count_before = col_before.size().getInfo()\n",
        "print('Col before Cloud Filter:', col_count_before)\n",
        "\n",
        "col_after = ee.ImageCollection('LANDSAT/LC08/C02/T1_TOA') \\\n",
        "    .filterBounds(regionInt) \\\n",
        "    .filterDate(START_DATE, END_DATE) \\\n",
        "    .map(cloud_mask) \\\n",
        "    .filter(ee.Filter.lt('CLOUD_COVER', MAX_CLOUD_COVER))\n",
        "\n",
        "\n"
      ],
      "metadata": {
        "colab": {
          "base_uri": "https://localhost:8080/",
          "height": 34
        },
        "id": "XyXM0o9nLLCr",
        "outputId": "81f348bb-9ee9-4c82-c4b0-85ab2067b2fc"
      },
      "execution_count": null,
      "outputs": [
        {
          "output_type": "display_data",
          "data": {
            "text/plain": [
              "<IPython.core.display.HTML object>"
            ],
            "text/html": [
              "\n",
              "            <style>\n",
              "                .geemap-dark {\n",
              "                    --jp-widgets-color: white;\n",
              "                    --jp-widgets-label-color: white;\n",
              "                    --jp-ui-font-color1: white;\n",
              "                    --jp-layout-color2: #454545;\n",
              "                    background-color: #383838;\n",
              "                }\n",
              "\n",
              "                .geemap-dark .jupyter-button {\n",
              "                    --jp-layout-color3: #383838;\n",
              "                }\n",
              "\n",
              "                .geemap-colab {\n",
              "                    background-color: var(--colab-primary-surface-color, white);\n",
              "                }\n",
              "\n",
              "                .geemap-colab .jupyter-button {\n",
              "                    --jp-layout-color3: var(--colab-primary-surface-color, white);\n",
              "                }\n",
              "            </style>\n",
              "            "
            ]
          },
          "metadata": {}
        },
        {
          "output_type": "stream",
          "name": "stdout",
          "text": [
            "Col before Cloud Filter: 164698\n"
          ]
        }
      ]
    },
    {
      "cell_type": "code",
      "source": [
        "# Count used images\n",
        "image_count = col_after.size().getInfo()\n",
        "print('Number of images in Sentinel-2 collection:', image_count)\n",
        "\n",
        "# Show dates of used images\n",
        "dates = col_after.aggregate_array('system:time_start')\n",
        "formatted_dates = ee.List(dates).map(lambda date: ee.Date(date).format('YYYY-MM-dd')).sort().getInfo()\n",
        "\n",
        "# Print the sorted dates\n",
        "print('Used Dates:', formatted_dates)\n"
      ],
      "metadata": {
        "colab": {
          "base_uri": "https://localhost:8080/",
          "height": 52
        },
        "id": "0XTWNqutLkls",
        "outputId": "78defed6-372e-4bf4-a7be-37ce0dee44ee"
      },
      "execution_count": null,
      "outputs": [
        {
          "output_type": "display_data",
          "data": {
            "text/plain": [
              "<IPython.core.display.HTML object>"
            ],
            "text/html": [
              "\n",
              "            <style>\n",
              "                .geemap-dark {\n",
              "                    --jp-widgets-color: white;\n",
              "                    --jp-widgets-label-color: white;\n",
              "                    --jp-ui-font-color1: white;\n",
              "                    --jp-layout-color2: #454545;\n",
              "                    background-color: #383838;\n",
              "                }\n",
              "\n",
              "                .geemap-dark .jupyter-button {\n",
              "                    --jp-layout-color3: #383838;\n",
              "                }\n",
              "\n",
              "                .geemap-colab {\n",
              "                    background-color: var(--colab-primary-surface-color, white);\n",
              "                }\n",
              "\n",
              "                .geemap-colab .jupyter-button {\n",
              "                    --jp-layout-color3: var(--colab-primary-surface-color, white);\n",
              "                }\n",
              "            </style>\n",
              "            "
            ]
          },
          "metadata": {}
        },
        {
          "output_type": "stream",
          "name": "stdout",
          "text": [
            "Number of images in Sentinel-2 collection: 11\n",
            "Used Dates: ['2018-03-08', '2018-03-24', '2018-04-25', '2018-05-18', '2018-06-03', '2018-07-14', '2018-07-30', '2018-08-06', '2018-08-22', '2018-09-16', '2018-10-18']\n"
          ]
        }
      ]
    },
    {
      "cell_type": "code",
      "source": [
        "######## LST Berechnung #########\n",
        "# Generate median composite\n",
        "image = col_after.median()\n",
        "\n",
        "# Select thermal band 10 (with brightness temperature)\n",
        "thermal = image.select('B10') \\\n",
        "    .clip(regionInt) \\\n",
        "\n",
        "# Calculate Normalized Difference Vegetation Index (NDVI) from Landsat surface reflectance\n",
        "ndvi = ee.ImageCollection('LANDSAT/LC08/C02/T1_L2') \\\n",
        "    .filterBounds(regionInt) \\\n",
        "    .filterDate('2018-01-01', '2018-12-31') \\\n",
        "    .median() \\\n",
        "    .normalizedDifference(['SR_B5', 'SR_B4']) \\\n",
        "    .rename('NDVI') \\\n",
        "    .clip(regionInt) \\\n",
        "\n",
        "# Find the minimum and maximum of NDVI\n",
        "min_max = ndvi.reduceRegion(\n",
        "    reducer=ee.Reducer.minMax(),\n",
        "    geometry=regionInt,\n",
        "    scale=30,\n",
        "    maxPixels=1e9\n",
        ")\n",
        "\n",
        "# Calculate fractional vegetation\n",
        "min_val = ee.Number(min_max.get('NDVI_min'))\n",
        "max_val = ee.Number(min_max.get('NDVI_max'))\n",
        "fv = ndvi.subtract(min_val).divide(max_val.subtract(min_val)).rename('FV')\n",
        "\n",
        "# Emissivity calculations\n",
        "a = ee.Number(0.004)\n",
        "b = ee.Number(0.986)\n",
        "em = fv.multiply(a).add(b).rename('EMM')\n",
        "\n",
        "# Calculate LST from emissivity and brightness temperature\n",
        "lst_landsat_median = thermal.expression(\n",
        "    '(Tb / (1 + (0.001145 * (Tb / 1.438)) * log(Ep))) - 273.15',\n",
        "    {\n",
        "        'Tb': thermal.select('B10'),\n",
        "        'Ep': em.select('EMM')\n",
        "    })\n",
        "\n",
        "# Function to load in the vizparams\n",
        "\n",
        "def add_ee_layer(map, ee_image, vis_params, region, name):\n",
        "    \"\"\"Add Earth Engine tile layer to Folium map.\"\"\"\n",
        "    # Get the URL of the Earth Engine TileLayer with a specified region and visualization parameters\n",
        "    tile_url = ee_image.getMapId(vis_params)['tile_fetcher'].url_format\n",
        "\n",
        "    # Add Earth Engine tile layer to Folium map\n",
        "    folium.TileLayer(\n",
        "        tiles=tile_url,\n",
        "        attr=name,\n",
        "        name=name,\n",
        "        overlay=True,\n",
        "    ).add_to(map)\n",
        "\n",
        "    return map\n",
        "\n",
        "# Create a map centered around the region of interest\n",
        "map = folium.Map(location=[48.521637, 9.057645], zoom_start=10)\n",
        "\n",
        "# Define visualization parameters\n",
        "thermal_vis = {'min': 295, 'max': 310, 'palette': ['#2b83ba', '#abdda4', '#ffffbf', '#fdae61', '#d7191c', '#abdda4']}\n",
        "ndvi_vis = {'min': 0, 'max': 1, 'palette': ['blue', 'white', 'green']}\n",
        "fv_vis = {'min': 0, 'max': 1, 'palette': ['blue', 'white', 'green']}\n",
        "em_vis = {'min': 0, 'max': 0.99, 'palette': ['blue', 'white', 'green']}\n",
        "lst_vis = {'min': 15, 'max': 35, 'palette': ['#2b83ba', '#abdda4', '#ffffbf', '#fdae61', '#d7191c', '#abdda4']}\n",
        "\n",
        "# Add layers to the map using the function\n",
        "map = add_ee_layer(map, thermal, thermal_vis, regionInt, 'Landsat_BT')\n",
        "map = add_ee_layer(map, ndvi, ndvi_vis, regionInt, 'NDVI')\n",
        "map = add_ee_layer(map, ndvi, fv_vis, regionInt, 'Fractional Vegetation')\n",
        "map = add_ee_layer(map, ndvi, em_vis, regionInt, 'Emissivity')\n",
        "map = add_ee_layer(map, lst_landsat_median, lst_vis, regionInt, 'LST_Landsat_Median')\n",
        "\n",
        "# Add layer control to toggle different layers\n",
        "folium.LayerControl().add_to(map)\n",
        "\n",
        "# Create a color map for the temperature range\n",
        "temperature_colormap = cm.LinearColormap(lst_vis['palette'],\n",
        "                                         vmin=lst_vis['min'],\n",
        "                                         vmax=lst_vis['max'])\n",
        "legend_html = '''\n",
        "    <div style=\"position: fixed; bottom: 50px; left: 50px; z-index:1000; background-color: white; border: 2px solid grey; padding: 10px;\">\n",
        "        <p><strong>Legend:</strong></p>\n",
        "        <p><span style=\"background-color: #2b83ba; padding: 2px 5px;\"></span> 15°C - 20°C</p>\n",
        "        <p><span style=\"background-color: #abdda4; padding: 2px 5px;\"></span> 20°C - 25°C</p>\n",
        "        <p><span style=\"background-color: #ffffbf; padding: 2px 5px;\"></span> 25°C - 30°C</p>\n",
        "        <p><span style=\"background-color: #fdae61; padding: 2px 5px;\"></span> 30°C - 35°C</p>\n",
        "        <p><span style=\"background-color: #d7191c; padding: 2px 5px;\"></span> > 35°C</p>\n",
        "    </div>\n",
        "'''\n",
        "\n",
        "# Add the color map to the map legend\n",
        "temperature_colormap.caption = 'Temperature (°C)'\n",
        "map.add_child(temperature_colormap)\n",
        "\n",
        "# map.get_root().html.add_child(folium.Element(legend_html))\n",
        "\n",
        "# Display the map\n",
        "map"
      ],
      "metadata": {
        "id": "VjUGjPFDL11P"
      },
      "execution_count": null,
      "outputs": []
    },
    {
      "cell_type": "code",
      "source": [
        "# Structure Type LST Maps\n",
        "image = ee.Image(\"JRC/GHSL/P2023A/GHS_BUILT_C/2018\")\n",
        "GHSL = image.select('built_characteristics')\n",
        "\n",
        "# Define masks for different structure types\n",
        "maskOpenSpace = GHSL.eq(1).Or(GHSL.eq(2)).Or(GHSL.eq(3)).Or(GHSL.eq(4))\n",
        "maskBuiltSpacesRes = GHSL.eq(11).Or(GHSL.eq(12)).Or(GHSL.eq(13)).Or(GHSL.eq(14)).Or(GHSL.eq(15))\n",
        "maskBuiltSpacesNonRes = GHSL.eq(5).Or(GHSL.eq(21)).Or(GHSL.eq(22)).Or(GHSL.eq(23)).Or(GHSL.eq(24)).Or(GHSL.eq(25))\n",
        "maskUrban = maskBuiltSpacesRes.Or(maskBuiltSpacesNonRes)\n",
        "\n",
        "# Apply masks to NDVI, emissivity, and LST calculations\n",
        "ndvi_open_space = ndvi.updateMask(maskOpenSpace)\n",
        "em_open_space = em.updateMask(maskOpenSpace)\n",
        "lst_open_space = lst_landsat_median.updateMask(maskOpenSpace)\n",
        "\n",
        "ndvi_built_res = ndvi.updateMask(maskBuiltSpacesRes)\n",
        "em_built_res = em.updateMask(maskBuiltSpacesRes)\n",
        "lst_built_res = lst_landsat_median.updateMask(maskBuiltSpacesRes)\n",
        "\n",
        "ndvi_built_non_res = ndvi.updateMask(maskBuiltSpacesNonRes)\n",
        "em_built_non_res = em.updateMask(maskBuiltSpacesNonRes)\n",
        "lst_built_non_res = lst_landsat_median.updateMask(maskBuiltSpacesNonRes)\n",
        "\n",
        "ndvi_urban = ndvi.updateMask(maskUrban)\n",
        "em_urban = em.updateMask(maskUrban)\n",
        "lst_urban = lst_landsat_median.updateMask(maskUrban)\n",
        "\n",
        "# Visualize the results\n",
        "map = folium.Map(location=[48.521637, 9.057645], zoom_start=12)\n",
        "\n",
        "map = add_ee_layer(map, lst_open_space, lst_vis, regionInt, 'LST_Open_Space')\n",
        "map = add_ee_layer(map, lst_built_res, lst_vis, regionInt, 'LST_Built_Res')\n",
        "map = add_ee_layer(map, lst_built_non_res, lst_vis, regionInt, 'LST_Built_Non_Res')\n",
        "map = add_ee_layer(map, lst_urban, lst_vis, regionInt, 'LST_Urban')\n",
        "\n",
        "# Add layer control\n",
        "folium.LayerControl().add_to(map)\n",
        "\n",
        "# Display the map\n",
        "map\n"
      ],
      "metadata": {
        "id": "SOu7z_bgdHA2"
      },
      "execution_count": null,
      "outputs": []
    },
    {
      "cell_type": "code",
      "source": [
        "def calculate_area(image):\n",
        "    # Multiply the image by pixel area to get the area in square meters\n",
        "    area_image = image.multiply(ee.Image.pixelArea())\n",
        "\n",
        "    # Reduce the area image within the specified region\n",
        "    area_stats = area_image.reduceRegion(reducer=ee.Reducer.sum(), geometry=regionInt.geometry(), scale=10)\n",
        "\n",
        "    # Get the sum of the area\n",
        "    area_sqm = area_stats.get('built_characteristics')\n",
        "\n",
        "    # Convert to square kilometers\n",
        "    area_sqkm = ee.Number(area_sqm).divide(1e6).getInfo()\n",
        "\n",
        "    return area_sqkm\n",
        "\n",
        "# Calculate areas for each structure type\n",
        "urban_area_sqkm = calculate_area(maskUrban)\n",
        "openSpaces_area_sqkm = calculate_area(maskOpenSpace)\n",
        "builtSpacesRes_area_sqkm = calculate_area(maskBuiltSpacesRes)\n",
        "builtSpacesNonRes_area_sqkm = calculate_area(maskBuiltSpacesNonRes)\n",
        "\n",
        "# Print the results\n",
        "print('Urban Structures (km²):', urban_area_sqkm)\n",
        "print('Open Spaces (km²):', openSpaces_area_sqkm)\n",
        "print('Built Spaces Residential (km²):', builtSpacesRes_area_sqkm)\n",
        "print('Built Spaces Non-Residential (km²):', builtSpacesNonRes_area_sqkm)\n",
        "\n",
        "\n",
        "# Define structure types and their areas\n",
        "structure_types = ['Urban Structures', 'Open Spaces', 'Built Spaces Residential', 'Built Spaces Non-Residential']\n",
        "areas_sqkm = [urban_area_sqkm, openSpaces_area_sqkm, builtSpacesRes_area_sqkm, builtSpacesNonRes_area_sqkm]\n",
        "\n",
        "# Sort structure types and areas_sqkm based on areas_sqkm\n",
        "structure_types_sorted, areas_sqkm_sorted = zip(*sorted(zip(structure_types, areas_sqkm), key=lambda x: x[1], reverse=True))\n",
        "\n",
        "# Create a bar plot\n",
        "plt.figure(figsize=(10, 6))\n",
        "bars = plt.bar(structure_types_sorted, areas_sqkm_sorted, color='skyblue')\n",
        "\n",
        "# Add data labels to the bars\n",
        "for bar, area in zip(bars, areas_sqkm_sorted):\n",
        "    plt.text(bar.get_x() + bar.get_width() / 2, bar.get_height() + 0.5, f'{area:.2f} km²', ha='center', va='bottom')\n",
        "\n",
        "# Add labels and title\n",
        "plt.xlabel('Structure Type')\n",
        "plt.ylabel('Area (km²)')\n",
        "plt.title('Area of Different Structure Types')\n",
        "\n",
        "# Customize the plot\n",
        "plt.grid(axis='y', linestyle='--', alpha=0.7)\n",
        "plt.xticks(rotation=45, ha='right')\n",
        "plt.tight_layout()\n",
        "\n",
        "# Show plot\n",
        "plt.show()\n"
      ],
      "metadata": {
        "id": "xA1V_yLKuuuU"
      },
      "execution_count": null,
      "outputs": []
    },
    {
      "cell_type": "code",
      "source": [],
      "metadata": {
        "id": "zolWPT4Fom0p"
      },
      "execution_count": null,
      "outputs": []
    },
    {
      "cell_type": "code",
      "source": [
        "# Function to extract LST value from an image for a given region\n",
        "def extract_lst_value(image, region):\n",
        "    date = ee.Date(image.get('system:time_start')).format('YYYY-MM-dd')\n",
        "    lst_value = image.reduceRegion(reducer=ee.Reducer.median(), geometry=region, scale=30).get('B10').getInfo()\n",
        "    return {'Date': date, 'LST': lst_value}\n",
        "\n",
        "# Extract LST values for each land cover type\n",
        "open_spaces_lst = extract_lst_value(openSpaces, regionInt)\n",
        "built_spaces_res_lst = extract_lst_value(builtSpacesRes, regionInt)\n",
        "built_spaces_nonres_lst = extract_lst_value(builtSpacesNonRes, regionInt)\n",
        "urban_lst = extract_lst_value(urban, regionInt)\n",
        "\n",
        "# Convert dates to string format\n",
        "open_spaces_lst['Date'] = open_spaces_lst['Date']\n",
        "built_spaces_res_lst['Date'] = built_spaces_res_lst['Date']\n",
        "built_spaces_nonres_lst['Date'] = built_spaces_nonres_lst['Date']\n",
        "urban_lst['Date'] = urban_lst['Date']\n",
        "\n",
        "# Merge the dictionaries into separate DataFrames\n",
        "df_open_spaces = pd.DataFrame([open_spaces_lst])\n",
        "df_built_spaces_res = pd.DataFrame([built_spaces_res_lst])\n",
        "df_built_spaces_nonres = pd.DataFrame([built_spaces_nonres_lst])\n",
        "df_urban = pd.DataFrame([urban_lst])\n",
        "\n",
        "# Plot the time series using box plots\n",
        "plt.figure(figsize=(10, 6))\n",
        "sns.boxplot(data=[df_open_spaces['LST'], df_built_spaces_res['LST'], df_built_spaces_nonres['LST'], df_urban['LST']],\n",
        "            notch=True, palette=\"Set2\")\n",
        "plt.title('Land Surface Temperature (LST) Time Series')\n",
        "plt.xlabel('Land Cover Type')\n",
        "plt.ylabel('Temperature (°C)')\n",
        "plt.xticks(ticks=[0, 1, 2, 3], labels=['Open Spaces', 'Built Spaces Residential', 'Built Spaces Non-Residential', 'Urban'])\n",
        "plt.grid(True)\n",
        "plt.show()\n"
      ],
      "metadata": {
        "id": "3924VGSQQy7R",
        "outputId": "3c811abd-190b-49a4-cfca-ca154ea1a3da",
        "colab": {
          "base_uri": "https://localhost:8080/",
          "height": 211
        }
      },
      "execution_count": null,
      "outputs": [
        {
          "output_type": "error",
          "ename": "NameError",
          "evalue": "name 'openSpaces' is not defined",
          "traceback": [
            "\u001b[0;31m---------------------------------------------------------------------------\u001b[0m",
            "\u001b[0;31mNameError\u001b[0m                                 Traceback (most recent call last)",
            "\u001b[0;32m<ipython-input-1-3511e34fadd2>\u001b[0m in \u001b[0;36m<cell line: 8>\u001b[0;34m()\u001b[0m\n\u001b[1;32m      6\u001b[0m \u001b[0;34m\u001b[0m\u001b[0m\n\u001b[1;32m      7\u001b[0m \u001b[0;31m# Extract LST values for each land cover type\u001b[0m\u001b[0;34m\u001b[0m\u001b[0;34m\u001b[0m\u001b[0m\n\u001b[0;32m----> 8\u001b[0;31m \u001b[0mopen_spaces_lst\u001b[0m \u001b[0;34m=\u001b[0m \u001b[0mextract_lst_value\u001b[0m\u001b[0;34m(\u001b[0m\u001b[0mopenSpaces\u001b[0m\u001b[0;34m,\u001b[0m \u001b[0mregionInt\u001b[0m\u001b[0;34m)\u001b[0m\u001b[0;34m\u001b[0m\u001b[0;34m\u001b[0m\u001b[0m\n\u001b[0m\u001b[1;32m      9\u001b[0m \u001b[0mbuilt_spaces_res_lst\u001b[0m \u001b[0;34m=\u001b[0m \u001b[0mextract_lst_value\u001b[0m\u001b[0;34m(\u001b[0m\u001b[0mbuiltSpacesRes\u001b[0m\u001b[0;34m,\u001b[0m \u001b[0mregionInt\u001b[0m\u001b[0;34m)\u001b[0m\u001b[0;34m\u001b[0m\u001b[0;34m\u001b[0m\u001b[0m\n\u001b[1;32m     10\u001b[0m \u001b[0mbuilt_spaces_nonres_lst\u001b[0m \u001b[0;34m=\u001b[0m \u001b[0mextract_lst_value\u001b[0m\u001b[0;34m(\u001b[0m\u001b[0mbuiltSpacesNonRes\u001b[0m\u001b[0;34m,\u001b[0m \u001b[0mregionInt\u001b[0m\u001b[0;34m)\u001b[0m\u001b[0;34m\u001b[0m\u001b[0;34m\u001b[0m\u001b[0m\n",
            "\u001b[0;31mNameError\u001b[0m: name 'openSpaces' is not defined"
          ]
        }
      ]
    }
  ]
}